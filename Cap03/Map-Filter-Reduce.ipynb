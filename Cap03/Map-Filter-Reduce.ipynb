{
 "cells": [
  {
   "cell_type": "markdown",
   "metadata": {},
   "source": [
    "## Map"
   ]
  },
  {
   "cell_type": "markdown",
   "metadata": {},
   "source": [
    "A função map() faz basicamente o mapeamento de um valor para outro, quase como um objeto do tipo dicionário em Python. Este é um conceito de programação funcional, mas que pode ser útil em certas circunstâncias dentro do processo de análise de dados. Este é conceito fundamental de programação MapReduce, popular em tecnologias de processamento de Big Data, como Hadoop e Spark."
   ]
  },
  {
   "cell_type": "code",
   "execution_count": 2,
   "metadata": {},
   "outputs": [
    {
     "name": "stdout",
     "output_type": "stream",
     "text": [
      "[0.0, 1.0, 2.0, 3.0, 4.0, 5.0, 6.0, 7.0, 8.0, 9.0, 10.0, 11.0, 12.0, 13.0, 14.0, 15.0, 16.0, 17.0, 18.0, 19.0]\n"
     ]
    }
   ],
   "source": [
    "# Com a função map() aplicamos uma função a um conjunto de elementos\n",
    "lista_map_func = map(float, range(20)); print(list(lista_map_func))"
   ]
  },
  {
   "cell_type": "markdown",
   "metadata": {},
   "source": [
    "## Filter"
   ]
  },
  {
   "cell_type": "markdown",
   "metadata": {},
   "source": [
    "A função filter() permite filtrar elementos de uma lista. Aplicamos uma função que retorna valores booleanos (True ou False). Retornamos os valores onde a expressão é True e filtramos os valores onde a expressão retorna False."
   ]
  },
  {
   "cell_type": "code",
   "execution_count": 4,
   "metadata": {},
   "outputs": [],
   "source": [
    "# A função filter() retorna apenas os valores onde a expressão é igual a True, \n",
    "# filtrando os valores onde a expressão retorna False\n",
    "lista_frases = [\"Big Data\", \n",
    "                \"Machine Learning em Big Data e Algoritmos em Big Data\", \n",
    "                \"Data Science e Big Data\", \n",
    "                \"Big Data e Internet das Coisas\",\n",
    "                \"Big Data está revolucionando o mundo\"]"
   ]
  },
  {
   "cell_type": "code",
   "execution_count": 6,
   "metadata": {},
   "outputs": [
    {
     "data": {
      "text/plain": [
       "['Machine Learning em Big Data e Algoritmos em Big Data']"
      ]
     },
     "execution_count": 6,
     "metadata": {},
     "output_type": "execute_result"
    }
   ],
   "source": [
    "def testa_BigData(frase):\n",
    "    return frase.count(\"Big Data\") >= 2\n",
    "\n",
    "list(filter(testa_BigData, lista_frases))"
   ]
  },
  {
   "cell_type": "code",
   "execution_count": 7,
   "metadata": {},
   "outputs": [
    {
     "data": {
      "text/plain": [
       "[False, True, False, False, False]"
      ]
     },
     "execution_count": 7,
     "metadata": {},
     "output_type": "execute_result"
    }
   ],
   "source": [
    "# Aplicando a função map()\n",
    "list(map(testa_BigData, lista_frases))"
   ]
  },
  {
   "cell_type": "markdown",
   "metadata": {},
   "source": [
    "## Reduce"
   ]
  },
  {
   "cell_type": "markdown",
   "metadata": {},
   "source": [
    "A função reduce() aplica uma função a uma sequência de elementos, até reduzir a sequência a um único elemento"
   ]
  },
  {
   "cell_type": "code",
   "execution_count": 8,
   "metadata": {},
   "outputs": [],
   "source": [
    "from functools import reduce"
   ]
  },
  {
   "cell_type": "code",
   "execution_count": 10,
   "metadata": {},
   "outputs": [
    {
     "data": {
      "text/plain": [
       "10"
      ]
     },
     "execution_count": 10,
     "metadata": {},
     "output_type": "execute_result"
    }
   ],
   "source": [
    "soma = reduce((lambda x, y: x + y), [1, 2, 3, 4]); soma"
   ]
  },
  {
   "cell_type": "code",
   "execution_count": null,
   "metadata": {},
   "outputs": [],
   "source": []
  }
 ],
 "metadata": {
  "kernelspec": {
   "display_name": "Python 3",
   "language": "python",
   "name": "python3"
  },
  "language_info": {
   "codemirror_mode": {
    "name": "ipython",
    "version": 3
   },
   "file_extension": ".py",
   "mimetype": "text/x-python",
   "name": "python",
   "nbconvert_exporter": "python",
   "pygments_lexer": "ipython3",
   "version": "3.7.3"
  }
 },
 "nbformat": 4,
 "nbformat_minor": 2
}
